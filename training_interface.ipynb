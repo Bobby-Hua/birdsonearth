{
 "cells": [
  {
   "cell_type": "markdown",
   "metadata": {},
   "source": [
    "# Sound Classification Training Interface"
   ]
  },
  {
   "cell_type": "code",
   "execution_count": 50,
   "metadata": {},
   "outputs": [
    {
     "data": {
      "text/plain": [
       "<module 'train' from '/Users/lucasmoeller/Documents/uni/Masterarbeit/home/Birds/Gitcode/train.py'>"
      ]
     },
     "execution_count": 50,
     "metadata": {},
     "output_type": "execute_result"
    }
   ],
   "source": [
    "import numpy as np\n",
    "import matplotlib.pyplot as plt\n",
    "import pandas as pd\n",
    "import imp\n",
    "import train\n",
    "import predict\n",
    "from utils import preprocessing as pre\n",
    "import params as p\n",
    "imp.reload(p)\n",
    "imp.reload(predict)\n",
    "imp.reload(pre)\n",
    "imp.reload(train)"
   ]
  },
  {
   "cell_type": "markdown",
   "metadata": {},
   "source": [
    "## Parameters for training"
   ]
  },
  {
   "cell_type": "code",
   "execution_count": 51,
   "metadata": {},
   "outputs": [],
   "source": [
    "params = p.Params()\n",
    "\n",
    "params.name = 'birds5'\n",
    "\n",
    "# training\n",
    "params.data_format = 'wav'\n",
    "params.data_root = 'data/birds_test'\n",
    "params.mel_spec_root = params.data_root + '_specs'\n",
    "params.n_epochs = 5\n",
    "params.batch_size = 100\n",
    "params.device = 'cpu'\n",
    "params.val_split = .2"
   ]
  },
  {
   "cell_type": "markdown",
   "metadata": {},
   "source": [
    "## Preprocessing"
   ]
  },
  {
   "cell_type": "code",
   "execution_count": 52,
   "metadata": {},
   "outputs": [
    {
     "name": "stdout",
     "output_type": "stream",
     "text": [
      "the following classes and numer of instances are found:\n",
      "\n",
      "   instances    labels\n",
      "0          8   Columba\n",
      "1         11     Parus\n",
      "2         12    Passer\n",
      "3          9      Pica\n",
      "4         10  Picoides\n",
      "spectrograms for the data seem to have been computed under data/birds_test_specs                 and will be used for training\n"
     ]
    }
   ],
   "source": [
    "pre.summary(params)"
   ]
  },
  {
   "cell_type": "code",
   "execution_count": 53,
   "metadata": {},
   "outputs": [
    {
     "name": "stdout",
     "output_type": "stream",
     "text": [
      "spectrograms seem to have been computed\n",
      "delete {} manually and rerun preprocessing or keep goint to use what is there.\n"
     ]
    }
   ],
   "source": [
    "pre.process_wavs_for_training(params)"
   ]
  },
  {
   "cell_type": "markdown",
   "metadata": {},
   "source": [
    "# Training"
   ]
  },
  {
   "cell_type": "code",
   "execution_count": 54,
   "metadata": {},
   "outputs": [
    {
     "name": "stdout",
     "output_type": "stream",
     "text": [
      "setting up training for 7 classes\n",
      "initialization\n",
      "['Columba', 'Parus', 'Passer', 'Pica', 'Picoides']\n",
      "loading 208 spectrograms for class Columba\n",
      "loading 1151 spectrograms for class Parus\n",
      "loading 576 spectrograms for class Passer\n",
      "loading 814 spectrograms for class Pica\n",
      "loading 658 spectrograms for class Picoides\n",
      "done data loading\n",
      "start training on cpu for 5 epochs\n",
      "\n",
      "Epoch: 0\n"
     ]
    },
    {
     "name": "stderr",
     "output_type": "stream",
     "text": [
      "/Users/lucasmoeller/Documents/uni/Masterarbeit/home/Birds/Gitcode/VGGish_model.py:58: UserWarning: Implicit dimension choice for softmax has been deprecated. Change the call to include dim=X as an argument.\n",
      "  a = softmax(a)\n"
     ]
    },
    {
     "name": "stdout",
     "output_type": "stream",
     "text": [
      "training accuracy: 0.2380777696258254\n",
      "test accuracy: 0.23641703377386197\n",
      "\n",
      "Epoch: 1\n",
      "training accuracy: 0.29530447542186355\n",
      "test accuracy: 0.3935389133627019\n",
      "\n",
      "Epoch: 2\n",
      "training accuracy: 0.3657373440939105\n",
      "test accuracy: 0.4185022026431718\n",
      "\n",
      "Epoch: 3\n",
      "training accuracy: 0.4013206162876009\n",
      "test accuracy: 0.4155653450807636\n",
      "\n",
      "Epoch: 4\n",
      "training accuracy: 0.3848129126925899\n",
      "test accuracy: 0.37591776798825255\n"
     ]
    }
   ],
   "source": [
    "model, labels = train.start_training_with(params)"
   ]
  },
  {
   "cell_type": "markdown",
   "metadata": {},
   "source": [
    "## Inference"
   ]
  },
  {
   "cell_type": "code",
   "execution_count": 55,
   "metadata": {
    "collapsed": true
   },
   "outputs": [],
   "source": [
    "files = ['data/Pica.wav', 'data/Parus.wav', 'data/Picoides.wav']"
   ]
  },
  {
   "cell_type": "code",
   "execution_count": 56,
   "metadata": {},
   "outputs": [
    {
     "name": "stdout",
     "output_type": "stream",
     "text": [
      "starting inference\n",
      "possible labels:  ['Columba', 'Parus', 'Passer', 'Pica', 'Picoides']\n"
     ]
    },
    {
     "name": "stderr",
     "output_type": "stream",
     "text": [
      "/Users/lucasmoeller/Documents/uni/Masterarbeit/home/Birds/Gitcode/VGGish_model.py:58: UserWarning: Implicit dimension choice for softmax has been deprecated. Change the call to include dim=X as an argument.\n",
      "  a = softmax(a)\n"
     ]
    },
    {
     "name": "stdout",
     "output_type": "stream",
     "text": [
      "file 0 sound like a Passer to me\n",
      "file 1 sound like a Parus to me\n",
      "file 2 sound like a Pica to me\n"
     ]
    }
   ],
   "source": [
    "predictions = predict.predict(model, labels, files, params)"
   ]
  },
  {
   "cell_type": "code",
   "execution_count": null,
   "metadata": {
    "collapsed": true
   },
   "outputs": [],
   "source": []
  }
 ],
 "metadata": {
  "kernelspec": {
   "display_name": "Python 3",
   "language": "python",
   "name": "python3"
  },
  "language_info": {
   "codemirror_mode": {
    "name": "ipython",
    "version": 3
   },
   "file_extension": ".py",
   "mimetype": "text/x-python",
   "name": "python",
   "nbconvert_exporter": "python",
   "pygments_lexer": "ipython3",
   "version": "3.6.8"
  }
 },
 "nbformat": 4,
 "nbformat_minor": 2
}
